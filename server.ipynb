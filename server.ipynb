{
 "cells": [
  {
   "cell_type": "markdown",
   "metadata": {},
   "source": [
    "### OSCshell\n",
    "OSCshell is an OSC-based service for unsecurely running shell commands via OSC using [python-osc](https://github.com/attwad/python-osc) on your favorite [Jupyter](http://jupyter.org/) (my favorite distro is [Anaconda](https://www.anaconda.com/download/#macos)) running a [Python3](https://www.python.org/) kernel. This is handy for OSC-compatible apps like [MaxMSP](https://cycling74.com/products/max/).\n",
    "\n",
    "Warning: OSCshell is **NOT** secure! Be careful how and where you run it as anybody can do anything to your boxen! To integrate this into your performance with a modicum of safety/security, stick with client/server on localhost or create a private network for your rig and this service.\n",
    "\n",
    "\n",
    "---\n",
    "\n",
    "**ToDo:**\n",
    "1. add security model, authentication, etc.\n",
    "2. include examples for various apps"
   ]
  },
  {
   "cell_type": "code",
   "execution_count": null,
   "metadata": {},
   "outputs": [],
   "source": [
    "import subprocess\n",
    "from pythonosc import dispatcher, osc_server\n",
    "\n",
    "def handler(path, cmd):\n",
    "    result = subprocess.check_output(cmd, stderr=subprocess.STDOUT, shell=True).decode('utf-8')\n",
    "    print('\\n{} \"{}\":\\n{}'.format(path, cmd, result))\n",
    "\n",
    "if __name__ == \"__main__\":\n",
    "    host = 'localhost'\n",
    "    port = 4500\n",
    "    server = None\n",
    "    try:\n",
    "        print('OSCshell service running at {} on port {}'.format(host, port))\n",
    "        disp = dispatcher.Dispatcher()\n",
    "        disp.map(\"/OSCshell\", handler)\n",
    "        server = osc_server.ThreadingOSCUDPServer((host, port), disp)\n",
    "        server.serve_forever()\n",
    "    except KeyboardInterrupt: pass"
   ]
  },
  {
   "cell_type": "markdown",
   "metadata": {},
   "source": [
    "Once you interrupt kernel, you'll need to execute the following before attempting to re-run the server again (keyboard shortcut: <kbd>ESC</kbd><kbd>I</kbd><kbd>I</kbd>)."
   ]
  },
  {
   "cell_type": "code",
   "execution_count": null,
   "metadata": {},
   "outputs": [],
   "source": [
    "server.server_close() # after ESC+II from Jupyter or ^C from shell to interrupt server"
   ]
  },
  {
   "cell_type": "markdown",
   "metadata": {},
   "source": [
    "[MaxMSP](https://cycling74.com/products/max/) requires a message object and an udpsend object as follows:\n",
    "\n",
    "    [/OSCshell \"ls -la /tmp\"] --- [udpsend localhost 4500]\n",
    "\n",
    "Here's an example of using OSCshell from [Sonic-pi](http://sonic-pi.net/), though you could simply surround your shell command in back ticks since full Ruby is available:\n",
    "\n",
    "    use_osc \"localhost\", 4500\n",
    "    osc \"/OSCshell\", \"ls -la /tmp\"\n",
    "\n",
    "More application examples to come."
   ]
  }
 ],
 "metadata": {
  "kernelspec": {
   "display_name": "Python 3",
   "language": "python",
   "name": "python3"
  },
  "language_info": {
   "codemirror_mode": {
    "name": "ipython",
    "version": 3
   },
   "file_extension": ".py",
   "mimetype": "text/x-python",
   "name": "python",
   "nbconvert_exporter": "python",
   "pygments_lexer": "ipython3",
   "version": "3.6.3"
  }
 },
 "nbformat": 4,
 "nbformat_minor": 2
}
